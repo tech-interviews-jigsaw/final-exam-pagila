{
 "cells": [
  {
   "cell_type": "markdown",
   "id": "681ca4e8-48f7-4174-9c81-1973864c88d0",
   "metadata": {},
   "source": [
    "# SQL Review with Pagila data "
   ]
  },
  {
   "cell_type": "markdown",
   "id": "897a5ace-6242-481a-8f90-5061d1ce4371",
   "metadata": {},
   "source": [
    "### Introduction"
   ]
  },
  {
   "cell_type": "markdown",
   "id": "00ddc04d-4b16-4cfa-b830-8fa35ac4284a",
   "metadata": {},
   "source": [
    "In this lesson, we will work with the pagila database."
   ]
  },
  {
   "cell_type": "markdown",
   "id": "319acb20-02e2-4b79-a841-25e282060b0b",
   "metadata": {},
   "source": [
    "### Getting Setup "
   ]
  },
  {
   "cell_type": "markdown",
   "id": "77817a92-d42c-4fc2-a040-2fe757e1d212",
   "metadata": {},
   "source": [
    "Load our data with the following."
   ]
  },
  {
   "cell_type": "code",
   "execution_count": null,
   "id": "7094b0dd-7176-4f19-a39b-f271ec9e9821",
   "metadata": {},
   "outputs": [],
   "source": [
    "import os\n",
    "data_dir = './csv_data'\n",
    "datasets = os.listdir(data_dir)\n",
    "\n",
    "import pandas as pd\n",
    "dataframes = {}\n",
    "for dataset in datasets:\n",
    "    df = pd.read_csv(f'{data_dir}/{dataset}')\n",
    "    table_name = dataset.replace('.csv', '')\n",
    "    dataframes[table_name] = df"
   ]
  },
  {
   "cell_type": "markdown",
   "id": "33a95a2f-22b0-4bb4-8640-ab5140508c5f",
   "metadata": {},
   "source": [
    "Then create a new database by running the following in the command line."
   ]
  },
  {
   "cell_type": "code",
   "execution_count": 1,
   "id": "7fb6d4c1-2c6c-42b4-8d4b-d74d400e67ef",
   "metadata": {},
   "outputs": [],
   "source": [
    "# psql -c \"create database pagila_db;\""
   ]
  },
  {
   "cell_type": "markdown",
   "id": "601acb14-e147-4b11-8670-3a50c5f0a797",
   "metadata": {},
   "source": [
    "And we can then connect to our database like so."
   ]
  },
  {
   "cell_type": "code",
   "execution_count": 1,
   "id": "8c11e8d4-8356-4915-9e2d-2caf3d624f87",
   "metadata": {},
   "outputs": [],
   "source": [
    "from sqlalchemy import create_engine\n",
    "engine = create_engine('postgresql+psycopg2://@localhost/pagila_db')"
   ]
  },
  {
   "cell_type": "markdown",
   "id": "6ec5b46f-ec5a-4377-9a74-7daa468bcfbf",
   "metadata": {},
   "source": [
    "And then we can use pandas to load data into our tables."
   ]
  },
  {
   "cell_type": "code",
   "execution_count": null,
   "id": "dfbbbddb-541c-4747-bd57-9d1e03725842",
   "metadata": {},
   "outputs": [],
   "source": [
    "for table_name, dataframe in dataframes.items():\n",
    "    dataframe.to_sql(table_name, engine, if_exists = 'replace')"
   ]
  },
  {
   "cell_type": "code",
   "execution_count": 33,
   "id": "1bf458bc-9409-42c1-96c9-8464ebd784fb",
   "metadata": {},
   "outputs": [
    {
     "data": {
      "text/html": [
       "<div>\n",
       "<style scoped>\n",
       "    .dataframe tbody tr th:only-of-type {\n",
       "        vertical-align: middle;\n",
       "    }\n",
       "\n",
       "    .dataframe tbody tr th {\n",
       "        vertical-align: top;\n",
       "    }\n",
       "\n",
       "    .dataframe thead th {\n",
       "        text-align: right;\n",
       "    }\n",
       "</style>\n",
       "<table border=\"1\" class=\"dataframe\">\n",
       "  <thead>\n",
       "    <tr style=\"text-align: right;\">\n",
       "      <th></th>\n",
       "      <th>actor_id</th>\n",
       "      <th>first_name</th>\n",
       "      <th>last_name</th>\n",
       "      <th>last_update</th>\n",
       "    </tr>\n",
       "  </thead>\n",
       "  <tbody>\n",
       "    <tr>\n",
       "      <th>0</th>\n",
       "      <td>1</td>\n",
       "      <td>PENELOPE</td>\n",
       "      <td>GUINESS</td>\n",
       "      <td>2022-02-15 09:34:33+00:00</td>\n",
       "    </tr>\n",
       "    <tr>\n",
       "      <th>1</th>\n",
       "      <td>2</td>\n",
       "      <td>NICK</td>\n",
       "      <td>WAHLBERG</td>\n",
       "      <td>2022-02-15 09:34:33+00:00</td>\n",
       "    </tr>\n",
       "  </tbody>\n",
       "</table>\n",
       "</div>"
      ],
      "text/plain": [
       "   actor_id first_name last_name               last_update\n",
       "0         1   PENELOPE   GUINESS 2022-02-15 09:34:33+00:00\n",
       "1         2       NICK  WAHLBERG 2022-02-15 09:34:33+00:00"
      ]
     },
     "execution_count": 33,
     "metadata": {},
     "output_type": "execute_result"
    }
   ],
   "source": [
    "import pandas as pd\n",
    "pd.read_sql('select * from actor limit 2', engine)"
   ]
  },
  {
   "cell_type": "markdown",
   "id": "2ded3c88-dc5e-4598-898a-6c63deec8bab",
   "metadata": {},
   "source": [
    "### Problems"
   ]
  },
  {
   "cell_type": "markdown",
   "id": "ad3b77ef-d2a1-46e1-91a2-b6c656bfe8b3",
   "metadata": {},
   "source": [
    "* Find the revenue result from each of the film ratings, order by he amount of revenue earned.\n"
   ]
  },
  {
   "cell_type": "markdown",
   "id": "0d385cb9-91a1-4f96-bdb6-d8cd12bb3681",
   "metadata": {},
   "source": [
    "> By revenue, this can be derived from the `amount` attribute, which is located in the `payment` table."
   ]
  },
  {
   "cell_type": "code",
   "execution_count": 42,
   "id": "c460217a-07d0-427e-b8eb-b1973cfb0efd",
   "metadata": {},
   "outputs": [
    {
     "data": {
      "text/html": [
       "<div>\n",
       "<style scoped>\n",
       "    .dataframe tbody tr th:only-of-type {\n",
       "        vertical-align: middle;\n",
       "    }\n",
       "\n",
       "    .dataframe tbody tr th {\n",
       "        vertical-align: top;\n",
       "    }\n",
       "\n",
       "    .dataframe thead th {\n",
       "        text-align: right;\n",
       "    }\n",
       "</style>\n",
       "<table border=\"1\" class=\"dataframe\">\n",
       "  <thead>\n",
       "    <tr style=\"text-align: right;\">\n",
       "      <th></th>\n",
       "      <th>rating</th>\n",
       "      <th>total_amount</th>\n",
       "    </tr>\n",
       "  </thead>\n",
       "  <tbody>\n",
       "    <tr>\n",
       "      <th>0</th>\n",
       "      <td>PG-13</td>\n",
       "      <td>15259.16</td>\n",
       "    </tr>\n",
       "    <tr>\n",
       "      <th>1</th>\n",
       "      <td>NC-17</td>\n",
       "      <td>13885.02</td>\n",
       "    </tr>\n",
       "    <tr>\n",
       "      <th>2</th>\n",
       "      <td>PG</td>\n",
       "      <td>13337.91</td>\n",
       "    </tr>\n",
       "    <tr>\n",
       "      <th>3</th>\n",
       "      <td>R</td>\n",
       "      <td>13270.19</td>\n",
       "    </tr>\n",
       "    <tr>\n",
       "      <th>4</th>\n",
       "      <td>G</td>\n",
       "      <td>11664.23</td>\n",
       "    </tr>\n",
       "  </tbody>\n",
       "</table>\n",
       "</div>"
      ],
      "text/plain": [
       "  rating  total_amount\n",
       "0  PG-13      15259.16\n",
       "1  NC-17      13885.02\n",
       "2     PG      13337.91\n",
       "3      R      13270.19\n",
       "4      G      11664.23"
      ]
     },
     "execution_count": 42,
     "metadata": {},
     "output_type": "execute_result"
    }
   ],
   "source": [
    "query = \"\"\"\"\"\"\n",
    "\n",
    "pd.read_sql(query, engine)\n",
    "\n",
    "# \trating\ttotal_amount\n",
    "# 0\tPG-13\t15259.16\n",
    "# 1\tNC-17\t13885.02\n",
    "# 2\tPG\t13337.91\n",
    "# 3\tR\t13270.19\n",
    "# 4\tG\t11664.23"
   ]
  },
  {
   "cell_type": "markdown",
   "id": "c880c5f0-2c97-407f-a830-2a6b524c201c",
   "metadata": {},
   "source": [
    "* Find the film rented the most number of times by a single customer.  If there is a tie, show all tying customers and films."
   ]
  },
  {
   "cell_type": "code",
   "execution_count": 13,
   "id": "5eb7740a-c567-44eb-858e-c8bc3096ea73",
   "metadata": {},
   "outputs": [
    {
     "data": {
      "text/html": [
       "<div>\n",
       "<style scoped>\n",
       "    .dataframe tbody tr th:only-of-type {\n",
       "        vertical-align: middle;\n",
       "    }\n",
       "\n",
       "    .dataframe tbody tr th {\n",
       "        vertical-align: top;\n",
       "    }\n",
       "\n",
       "    .dataframe thead th {\n",
       "        text-align: right;\n",
       "    }\n",
       "</style>\n",
       "<table border=\"1\" class=\"dataframe\">\n",
       "  <thead>\n",
       "    <tr style=\"text-align: right;\">\n",
       "      <th></th>\n",
       "      <th>first_name</th>\n",
       "      <th>last_name</th>\n",
       "      <th>title</th>\n",
       "      <th>amount_rentals</th>\n",
       "    </tr>\n",
       "  </thead>\n",
       "  <tbody>\n",
       "    <tr>\n",
       "      <th>0</th>\n",
       "      <td>GEORGE</td>\n",
       "      <td>LINTON</td>\n",
       "      <td>CADDYSHACK JEDI</td>\n",
       "      <td>3</td>\n",
       "    </tr>\n",
       "    <tr>\n",
       "      <th>1</th>\n",
       "      <td>THELMA</td>\n",
       "      <td>MURRAY</td>\n",
       "      <td>DISCIPLE MOTHER</td>\n",
       "      <td>3</td>\n",
       "    </tr>\n",
       "    <tr>\n",
       "      <th>2</th>\n",
       "      <td>RANDY</td>\n",
       "      <td>GAITHER</td>\n",
       "      <td>DETECTIVE VISION</td>\n",
       "      <td>3</td>\n",
       "    </tr>\n",
       "    <tr>\n",
       "      <th>3</th>\n",
       "      <td>EDWARD</td>\n",
       "      <td>BAUGH</td>\n",
       "      <td>FLATLINERS KILLER</td>\n",
       "      <td>3</td>\n",
       "    </tr>\n",
       "  </tbody>\n",
       "</table>\n",
       "</div>"
      ],
      "text/plain": [
       "  first_name last_name              title  amount_rentals\n",
       "0     GEORGE    LINTON    CADDYSHACK JEDI               3\n",
       "1     THELMA    MURRAY    DISCIPLE MOTHER               3\n",
       "2      RANDY   GAITHER   DETECTIVE VISION               3\n",
       "3     EDWARD     BAUGH  FLATLINERS KILLER               3"
      ]
     },
     "execution_count": 13,
     "metadata": {},
     "output_type": "execute_result"
    }
   ],
   "source": [
    "query = \"\"\"\n",
    "\"\"\"\n",
    "pd.read_sql(query, engine)\n",
    "\n",
    "# irst_name\tlast_name\ttitle\tamount_rentals\n",
    "# 0\tGEORGE\tLINTON\tCADDYSHACK JEDI\t3\n",
    "# 1\tTHELMA\tMURRAY\tDISCIPLE MOTHER\t3\n",
    "# 2\tRANDY\tGAITHER\tDETECTIVE VISION\t3\n",
    "# 3\tEDWARD\tBAUGH\tFLATLINERS KILLER\t3"
   ]
  },
  {
   "cell_type": "markdown",
   "id": "b89510b6-7a92-49cd-a158-2bb13cb3f435",
   "metadata": {},
   "source": [
    "* Find the movie title of the actor whose movies were rented the most number of times, order by the title name in ascending order.\n"
   ]
  },
  {
   "cell_type": "code",
   "execution_count": 63,
   "id": "ac4a73d0-ee6a-4d9a-bb3a-07523c2f0954",
   "metadata": {},
   "outputs": [
    {
     "data": {
      "text/html": [
       "<div>\n",
       "<style scoped>\n",
       "    .dataframe tbody tr th:only-of-type {\n",
       "        vertical-align: middle;\n",
       "    }\n",
       "\n",
       "    .dataframe tbody tr th {\n",
       "        vertical-align: top;\n",
       "    }\n",
       "\n",
       "    .dataframe thead th {\n",
       "        text-align: right;\n",
       "    }\n",
       "</style>\n",
       "<table border=\"1\" class=\"dataframe\">\n",
       "  <thead>\n",
       "    <tr style=\"text-align: right;\">\n",
       "      <th></th>\n",
       "      <th>film_id</th>\n",
       "      <th>title</th>\n",
       "    </tr>\n",
       "  </thead>\n",
       "  <tbody>\n",
       "    <tr>\n",
       "      <th>0</th>\n",
       "      <td>62</td>\n",
       "      <td>BED HIGHBALL</td>\n",
       "    </tr>\n",
       "    <tr>\n",
       "      <th>1</th>\n",
       "      <td>112</td>\n",
       "      <td>CALENDAR GUNFIGHT</td>\n",
       "    </tr>\n",
       "    <tr>\n",
       "      <th>2</th>\n",
       "      <td>133</td>\n",
       "      <td>CHAMBER ITALIAN</td>\n",
       "    </tr>\n",
       "    <tr>\n",
       "      <th>3</th>\n",
       "      <td>136</td>\n",
       "      <td>CHAPLIN LICENSE</td>\n",
       "    </tr>\n",
       "    <tr>\n",
       "      <th>4</th>\n",
       "      <td>138</td>\n",
       "      <td>CHARIOTS CONSPIRACY</td>\n",
       "    </tr>\n",
       "  </tbody>\n",
       "</table>\n",
       "</div>"
      ],
      "text/plain": [
       "   film_id                title\n",
       "0       62         BED HIGHBALL\n",
       "1      112    CALENDAR GUNFIGHT\n",
       "2      133      CHAMBER ITALIAN\n",
       "3      136      CHAPLIN LICENSE\n",
       "4      138  CHARIOTS CONSPIRACY"
      ]
     },
     "execution_count": 63,
     "metadata": {},
     "output_type": "execute_result"
    }
   ],
   "source": [
    "query = \"\"\"\n",
    "\"\"\"\n",
    "\n",
    "pd.read_sql(query, engine)"
   ]
  },
  {
   "cell_type": "markdown",
   "id": "16d105ed-895e-4431-8c8d-45e91e45a854",
   "metadata": {},
   "source": [
    "Find the name of the actor whose movies have been rented the most, and return the number of rentals along with the actor's first and last name."
   ]
  },
  {
   "cell_type": "code",
   "execution_count": 28,
   "id": "2448d674-165d-4bc0-b509-e2af6b119199",
   "metadata": {},
   "outputs": [
    {
     "data": {
      "text/html": [
       "<div>\n",
       "<style scoped>\n",
       "    .dataframe tbody tr th:only-of-type {\n",
       "        vertical-align: middle;\n",
       "    }\n",
       "\n",
       "    .dataframe tbody tr th {\n",
       "        vertical-align: top;\n",
       "    }\n",
       "\n",
       "    .dataframe thead th {\n",
       "        text-align: right;\n",
       "    }\n",
       "</style>\n",
       "<table border=\"1\" class=\"dataframe\">\n",
       "  <thead>\n",
       "    <tr style=\"text-align: right;\">\n",
       "      <th></th>\n",
       "      <th>actor_id</th>\n",
       "      <th>first_name</th>\n",
       "      <th>last_name</th>\n",
       "      <th>total</th>\n",
       "    </tr>\n",
       "  </thead>\n",
       "  <tbody>\n",
       "    <tr>\n",
       "      <th>0</th>\n",
       "      <td>107</td>\n",
       "      <td>GINA</td>\n",
       "      <td>DEGENERES</td>\n",
       "      <td>753</td>\n",
       "    </tr>\n",
       "  </tbody>\n",
       "</table>\n",
       "</div>"
      ],
      "text/plain": [
       "   actor_id first_name  last_name  total\n",
       "0       107       GINA  DEGENERES    753"
      ]
     },
     "execution_count": 28,
     "metadata": {},
     "output_type": "execute_result"
    }
   ],
   "source": [
    "query = \"\"\"\n",
    "\"\"\"\n",
    "\n",
    "pd.read_sql(query, engine)"
   ]
  },
  {
   "cell_type": "markdown",
   "id": "8d103995-996b-40af-9315-eaff5768e10a",
   "metadata": {},
   "source": [
    "* Find a running total of payment ordered by the payment amount and the payment_id.  Limit to the first five records.\n"
   ]
  },
  {
   "cell_type": "code",
   "execution_count": 9,
   "id": "a48cdff9-bf52-4dee-8960-12ef8a19bb41",
   "metadata": {},
   "outputs": [
    {
     "data": {
      "text/html": [
       "<div>\n",
       "<style scoped>\n",
       "    .dataframe tbody tr th:only-of-type {\n",
       "        vertical-align: middle;\n",
       "    }\n",
       "\n",
       "    .dataframe tbody tr th {\n",
       "        vertical-align: top;\n",
       "    }\n",
       "\n",
       "    .dataframe thead th {\n",
       "        text-align: right;\n",
       "    }\n",
       "</style>\n",
       "<table border=\"1\" class=\"dataframe\">\n",
       "  <thead>\n",
       "    <tr style=\"text-align: right;\">\n",
       "      <th></th>\n",
       "      <th>payment_id</th>\n",
       "      <th>amount</th>\n",
       "      <th>sum</th>\n",
       "    </tr>\n",
       "  </thead>\n",
       "  <tbody>\n",
       "    <tr>\n",
       "      <th>0</th>\n",
       "      <td>29136</td>\n",
       "      <td>11.99</td>\n",
       "      <td>11.99</td>\n",
       "    </tr>\n",
       "    <tr>\n",
       "      <th>1</th>\n",
       "      <td>28814</td>\n",
       "      <td>11.99</td>\n",
       "      <td>23.98</td>\n",
       "    </tr>\n",
       "    <tr>\n",
       "      <th>2</th>\n",
       "      <td>28799</td>\n",
       "      <td>11.99</td>\n",
       "      <td>35.97</td>\n",
       "    </tr>\n",
       "    <tr>\n",
       "      <th>3</th>\n",
       "      <td>24866</td>\n",
       "      <td>11.99</td>\n",
       "      <td>47.96</td>\n",
       "    </tr>\n",
       "    <tr>\n",
       "      <th>4</th>\n",
       "      <td>24553</td>\n",
       "      <td>11.99</td>\n",
       "      <td>59.95</td>\n",
       "    </tr>\n",
       "  </tbody>\n",
       "</table>\n",
       "</div>"
      ],
      "text/plain": [
       "   payment_id  amount    sum\n",
       "0       29136   11.99  11.99\n",
       "1       28814   11.99  23.98\n",
       "2       28799   11.99  35.97\n",
       "3       24866   11.99  47.96\n",
       "4       24553   11.99  59.95"
      ]
     },
     "execution_count": 9,
     "metadata": {},
     "output_type": "execute_result"
    }
   ],
   "source": [
    "\n",
    "query = \"\"\" \"\"\"\n",
    "pd.read_sql(query, engine)\n",
    "\n",
    "# payment_id\tamount\tsum\n",
    "# 0\t29136\t11.99\t11.99\n",
    "# 1\t28814\t11.99\t23.98\n",
    "# 2\t28799\t11.99\t35.97\n",
    "# 3\t24866\t11.99\t47.96\n",
    "# 4\t24553\t11.99\t59.95"
   ]
  },
  {
   "cell_type": "markdown",
   "id": "1e41f2cd-245c-4ceb-81e7-a47fb5c6ae46",
   "metadata": {},
   "source": [
    "* Find the film release year that had the largest change in average length from the year before, and show that year and that largest difference.\n"
   ]
  },
  {
   "cell_type": "code",
   "execution_count": 40,
   "id": "6607de06-c230-4b1a-b068-e99fe24d6b40",
   "metadata": {},
   "outputs": [
    {
     "data": {
      "text/html": [
       "<div>\n",
       "<style scoped>\n",
       "    .dataframe tbody tr th:only-of-type {\n",
       "        vertical-align: middle;\n",
       "    }\n",
       "\n",
       "    .dataframe tbody tr th {\n",
       "        vertical-align: top;\n",
       "    }\n",
       "\n",
       "    .dataframe thead th {\n",
       "        text-align: right;\n",
       "    }\n",
       "</style>\n",
       "<table border=\"1\" class=\"dataframe\">\n",
       "  <thead>\n",
       "    <tr style=\"text-align: right;\">\n",
       "      <th></th>\n",
       "      <th>release_year</th>\n",
       "      <th>lag_diff</th>\n",
       "    </tr>\n",
       "  </thead>\n",
       "  <tbody>\n",
       "    <tr>\n",
       "      <th>0</th>\n",
       "      <td>2012</td>\n",
       "      <td>-41.616667</td>\n",
       "    </tr>\n",
       "  </tbody>\n",
       "</table>\n",
       "</div>"
      ],
      "text/plain": [
       "   release_year   lag_diff\n",
       "0          2012 -41.616667"
      ]
     },
     "execution_count": 40,
     "metadata": {},
     "output_type": "execute_result"
    }
   ],
   "source": [
    "query = \"\"\"\n",
    "\"\"\"\n",
    "pd.read_sql(query, engine)\n",
    "\n",
    "# \trelease_year\tlag_diff\n",
    "# 0\t2012\t41.616667"
   ]
  }
 ],
 "metadata": {
  "kernelspec": {
   "display_name": "Python 3 (ipykernel)",
   "language": "python",
   "name": "python3"
  },
  "language_info": {
   "codemirror_mode": {
    "name": "ipython",
    "version": 3
   },
   "file_extension": ".py",
   "mimetype": "text/x-python",
   "name": "python",
   "nbconvert_exporter": "python",
   "pygments_lexer": "ipython3",
   "version": "3.9.12"
  }
 },
 "nbformat": 4,
 "nbformat_minor": 5
}
